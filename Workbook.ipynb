{
 "cells": [
  {
   "cell_type": "markdown",
   "id": "01f6f566",
   "metadata": {},
   "source": [
    "# print(\"Hello\")"
   ]
  },
  {
   "cell_type": "code",
   "execution_count": 11,
   "id": "243d096c",
   "metadata": {},
   "outputs": [
    {
     "name": "stdout",
     "output_type": "stream",
     "text": [
      "<class 'int'>\n",
      "<class 'complex'>\n",
      "<class 'list'>\n",
      "<class 'dict'>\n",
      "<class 'tuple'>\n",
      "<class 'float'>\n"
     ]
    }
   ],
   "source": [
    "x=10\n",
    "y=1j\n",
    "z=[\"apple\", \"mango\", \"oranges\"]\n",
    "g={\"Name\" : \"James\", \"Age\" :\"28\" }\n",
    "w=(\"grapes\", \"peas\", \"sugarcane\")\n",
    "r=3.14\n",
    "\n",
    "print(type(x))\n",
    "print(type(y))\n",
    "print(type(z))\n",
    "print(type(g))\n",
    "print(type(w))\n",
    "print(type(r))"
   ]
  },
  {
   "cell_type": "code",
   "execution_count": 2,
   "id": "8ce3011a",
   "metadata": {},
   "outputs": [
    {
     "name": "stdout",
     "output_type": "stream",
     "text": [
      "The itsy bitsy spider\n",
      "climbed up the waterspout.\n",
      "\n",
      "Down came the rain\n",
      "and washed the spider out.\n"
     ]
    }
   ],
   "source": [
    "#comments. Escape and Newline characters.\n",
    "print(\"The itsy bitsy spider\\nclimbed up the waterspout.\")\n",
    "print()\n",
    "print(\"Down came the rain\\nand washed the spider out.\")"
   ]
  },
  {
   "cell_type": "code",
   "execution_count": 3,
   "id": "febebe8d",
   "metadata": {},
   "outputs": [
    {
     "name": "stdout",
     "output_type": "stream",
     "text": [
      "The itsy bitsy spider climbed up the watersprout.\n"
     ]
    }
   ],
   "source": [
    "#Using multiple arguments.\n",
    "print(\"The itsy bitsy spider\" , \"climbed up\" , \"the watersprout.\")"
   ]
  },
  {
   "cell_type": "code",
   "execution_count": 1,
   "id": "eba4a290",
   "metadata": {},
   "outputs": [
    {
     "data": {
      "text/plain": [
       "1"
      ]
     },
     "execution_count": 1,
     "metadata": {},
     "output_type": "execute_result"
    }
   ],
   "source": [
    "1*1"
   ]
  },
  {
   "cell_type": "code",
   "execution_count": 2,
   "id": "fa756201",
   "metadata": {},
   "outputs": [
    {
     "ename": "IndentationError",
     "evalue": "unexpected indent (658247466.py, line 3)",
     "output_type": "error",
     "traceback": [
      "\u001b[1;36m  Cell \u001b[1;32mIn[2], line 3\u001b[1;36m\u001b[0m\n\u001b[1;33m    print(\"Ten is greater than eight.\")\u001b[0m\n\u001b[1;37m    ^\u001b[0m\n\u001b[1;31mIndentationError\u001b[0m\u001b[1;31m:\u001b[0m unexpected indent\n"
     ]
    }
   ],
   "source": [
    "#Indentation.\n",
    "if 10 > 8:\n",
    "    print(\"Ten is greater than eight.\")\n",
    "        print(\"Ten is greater than eight.\") #lIne 3 has unexpected indent out of the block."
   ]
  },
  {
   "cell_type": "code",
   "execution_count": 3,
   "id": "180d4e18",
   "metadata": {},
   "outputs": [
    {
     "name": "stdout",
     "output_type": "stream",
     "text": [
      "Five is greater than two!\n",
      "Five is greater than two!\n"
     ]
    }
   ],
   "source": [
    "if 5 > 2:\n",
    " print(\"Five is greater than two!\") \n",
    "if 5 > 2:\n",
    "    print(\"Five is greater than two!\") "
   ]
  },
  {
   "cell_type": "code",
   "execution_count": 24,
   "id": "e0c92077",
   "metadata": {},
   "outputs": [
    {
     "name": "stdout",
     "output_type": "stream",
     "text": [
      "Workforce\n",
      "7\n",
      "Nairobi\n",
      "\n",
      "<class 'int'>\n",
      "<class 'str'>\n",
      "\n",
      "Busia\n",
      "Bungoma\n",
      "Eldoret\n",
      "\n",
      "Mombasa\n",
      "Mombasa\n",
      "Mombasa\n",
      "\n",
      "Apple\n",
      "Mango\n",
      "Passion\n",
      "\n",
      "Thames computers is \n",
      "\n",
      "Thames Computers is awesome\n",
      "\n",
      "Thames Computers is awesome\n",
      "\n",
      "18\n",
      "\n",
      "Thames Computers is awesome\n",
      "Thames Computers is fantastic\n",
      "Thames Computers is awesome\n",
      "Thames Computers is marvellous\n",
      "Butali is the powerful hockey team in Kenya\n"
     ]
    }
   ],
   "source": [
    "#Variables : They are containers for storing data\n",
    "#They don't need to be declared with any particular type and can change type after they have been set.\n",
    "\n",
    "x = 5 # x is of type int.\n",
    "x = \"Workforce\" # x is of type str.\n",
    "\n",
    "print(x)\n",
    "\n",
    "#Variables are case-sensitive.\n",
    "\n",
    "a = 7\n",
    "A = \"Nairobi\"\n",
    "\n",
    "print(a)\n",
    "print(A)\n",
    "print()\n",
    "print(type(a))\n",
    "print(type(A))\n",
    "print()\n",
    "\n",
    "# \"A\" do not overwrite \"a\".\n",
    "\n",
    "#Assign multiple values\n",
    "\n",
    "x,y,z = \"Busia\", \"Bungoma\", \"Eldoret\"\n",
    "\n",
    "print(x)\n",
    "print(y)\n",
    "print(z)\n",
    "print()\n",
    "\n",
    "#One value to multiple variables\n",
    "\n",
    "x=y=z = \"Mombasa\"\n",
    "print(x)\n",
    "print(y)\n",
    "print(z)\n",
    "\n",
    "#Unpack a collection\n",
    "#if yoy have a collection of values in a list, tuple e.t.c. Python allows you to extract the values into variables.\n",
    "\n",
    "fruits = [\"Apple\", \"Mango\", \"Passion\"]\n",
    "a,b,c = fruits\n",
    "print()\n",
    "print(a)\n",
    "print(b)\n",
    "print(c)\n",
    "print()\n",
    "\n",
    "#Output Variables (print() function is often used to output variables)\n",
    "\n",
    "f = \"Thames computers is \"\n",
    "print(f)\n",
    "\n",
    "#Multiple variables (Can output multiple variables in the print() function separated by a comma.)\n",
    "print()\n",
    "d = \"Thames\"\n",
    "e = \"Computers\"\n",
    "g = \"is\"\n",
    "h = \"awesome\"\n",
    "\n",
    "print(d,e,g,h)\n",
    "print()\n",
    "\n",
    "#We can also use the + operator.\n",
    "\n",
    "i = \"Thames Computers \" #There is a space character after 'computers' and 'is'.\n",
    "j = \"is \"\n",
    "k = \"awesome\"\n",
    "\n",
    "print(i+j+k)\n",
    "print()\n",
    "\n",
    "#For numbers '+' character works as a mathematical operator.\n",
    "\n",
    "m = 10\n",
    "n = 8\n",
    "\n",
    "print(m+n)\n",
    "print()\n",
    "#Global variable. (This are variables created outside a function \"as in all the examples above\")\n",
    "#They can be used by both insde and outside the function.\n",
    "\n",
    "o = \"awesome\" #(Global variable.)\n",
    "\n",
    "def myfunc(): #(Function)\n",
    "    print(\"Thames Computers is \"+ o) #(The 'o' variable will be outputted because 'o' is a global variable.)\n",
    "    \n",
    "myfunc()\n",
    "    \n",
    "#creating variable with the same name outside and inside a function.\n",
    "\n",
    "p = \"awesome\"\n",
    "\n",
    "def myfunc():\n",
    "    p = \"fantastic\" #(Local variable: Can only be used inside the function.)\n",
    "    print(\"Thames Computers is \"+ p) #(This will output the local variable.)\n",
    "    \n",
    "myfunc()\n",
    "\n",
    "print(\"Thames Computers is \"+ p) #(This will output the global variable.)\n",
    "\n",
    "#Global keyword (To create a global variable inside a function we use the global keyword.)\n",
    "#If we use the global keyword, the variabler belongs to the global scope.\n",
    "\n",
    "def myfunc():\n",
    "    global q\n",
    "    q = \"marvellous\"\n",
    "    \n",
    "myfunc()\n",
    "\n",
    "print(\"Thames Computers is \"+ q)\n",
    "\n",
    "#Global keyword is also used when you want to change a global variable inside a function.\n",
    "\n",
    "r = \"best\"\n",
    "\n",
    "def myfunc():\n",
    "    global r\n",
    "    r = \"powerful\"\n",
    "    \n",
    "myfunc()\n",
    "\n",
    "print(\"Butali is the \"+ r ,\"hockey team in Kenya\")"
   ]
  },
  {
   "cell_type": "code",
   "execution_count": 3,
   "id": "3f47e281",
   "metadata": {},
   "outputs": [
    {
     "name": "stdout",
     "output_type": "stream",
     "text": [
      "nairobi kenya\n",
      "Nairobi Kenya\n"
     ]
    }
   ],
   "source": [
    "#Strings.\n",
    "#A string is simply a series of characters. (Anthing inside quotes is considered a string in Python, and a you can use single or double quotes around your string.)\n",
    "\n",
    "\"This is Africa.\"\n",
    "'This is Africa.'\n",
    "\n",
    "#The flexibility allows the use of quotes and apostrophes.\n",
    "\n",
    "\"I told Mark, 'rugby' is my favourite sport.\"\n",
    "'The force of \"gravity\" was discovered by Isaac Newton.'\n",
    "\"One of Edwin's book is lost.\"\n",
    "\n",
    "#Changing case in a string with Method.\n",
    "\n",
    "name = \"nairobi kenya\"\n",
    "print(name)\n",
    "print(name.title()) \n",
    "\n",
    "#(A Method is an action that Python can perfome on a piece of data.)\n",
    "#The dot (.) after name in name.title() tells Python to make the title() method act on the variable name.\n",
    "#Every method is followed by a pair of parentheses, because method often need additional informatiopn to do their work.\n"
   ]
  },
  {
   "cell_type": "markdown",
   "id": "3e26b14a",
   "metadata": {},
   "source": [
    "# Lists"
   ]
  },
  {
   "cell_type": "markdown",
   "id": "bba4f268",
   "metadata": {},
   "source": [
    "A list is a collection of items in a particular order. You can make a list that\n",
    "includes the letters of the alphabet, the digits from 0–9, or the names of\n",
    "all the people in your family"
   ]
  },
  {
   "cell_type": "code",
   "execution_count": 3,
   "id": "18a2a5aa",
   "metadata": {},
   "outputs": [
    {
     "name": "stdout",
     "output_type": "stream",
     "text": [
      "['trek', 'cannondale', 'redline', 'specialized']\n",
      "<class 'list'>\n",
      "['Honda', 'BMW GS', 'Yamaha', 'Hero', 'Kawasaki', 'Scooteer', 'Ktm']\n",
      "<class 'list'>\n"
     ]
    }
   ],
   "source": [
    "bicycles = ['trek', 'cannondale', 'redline', 'specialized']\n",
    "print(bicycles)\n",
    "print(type(bicycles))\n",
    "\n",
    "#Using the 'list()' constructor\n",
    "\n",
    "bike_ = list(('Honda' , 'BMW GS' , 'Yamaha' , 'Hero' , 'Kawasaki' , 'Scooteer' , 'Ktm'))\n",
    "print(bike_)\n",
    "print(type(bike_))\n"
   ]
  },
  {
   "cell_type": "markdown",
   "id": "25d259ae",
   "metadata": {},
   "source": [
    "Accessing Elements in a list"
   ]
  },
  {
   "cell_type": "code",
   "execution_count": 5,
   "id": "1d1620a1",
   "metadata": {},
   "outputs": [
    {
     "name": "stdout",
     "output_type": "stream",
     "text": [
      "trek\n",
      "\n",
      "Trek\n"
     ]
    }
   ],
   "source": [
    "print(bicycles[0])\n",
    "print()\n",
    "\n",
    "#Capitalizing the first letter.\n",
    "\n",
    "print(bicycles[0].title())"
   ]
  },
  {
   "cell_type": "code",
   "execution_count": 6,
   "id": "f7bdecfc",
   "metadata": {},
   "outputs": [
    {
     "name": "stdout",
     "output_type": "stream",
     "text": [
      "4\n",
      "7\n"
     ]
    }
   ],
   "source": [
    "#Geetting list length using the len() function.\n",
    "\n",
    "print(len(bicycles))\n",
    "print(len(bike_))"
   ]
  },
  {
   "cell_type": "code",
   "execution_count": 8,
   "id": "f6d8e1f8",
   "metadata": {},
   "outputs": [
    {
     "name": "stdout",
     "output_type": "stream",
     "text": [
      "[True, False, True]\n"
     ]
    }
   ],
   "source": [
    "#Working with bolean data types in list.\n",
    "\n",
    "sol =[True,False,True]\n",
    "print(sol)"
   ]
  },
  {
   "cell_type": "code",
   "execution_count": 9,
   "id": "22dc3dcf",
   "metadata": {},
   "outputs": [
    {
     "name": "stdout",
     "output_type": "stream",
     "text": [
      "<class 'list'>\n"
     ]
    }
   ],
   "source": [
    "#Checking the data type using the type() function.\n",
    "\n",
    "print(type(sol))"
   ]
  },
  {
   "cell_type": "code",
   "execution_count": 7,
   "id": "3b34a398",
   "metadata": {},
   "outputs": [
    {
     "name": "stdout",
     "output_type": "stream",
     "text": [
      "['Mango', 'orange', 'pineapple']\n",
      "<class 'list'>\n"
     ]
    }
   ],
   "source": [
    "#Using the 'list()' constructor to make a list.\n",
    "\n",
    "thislist = list((\"Mango\",\"orange\",\"pineapple\")) #Note the double round brackets.\n",
    "print(thislist)\n",
    "print(type(thislist))"
   ]
  },
  {
   "cell_type": "markdown",
   "id": "10aababa",
   "metadata": {},
   "source": [
    "\n",
    "Negative Indexing\n",
    "This means you start from the end.\n",
    "[-1] refers to the last item, [-2] refers to the second last item.\n"
   ]
  },
  {
   "cell_type": "code",
   "execution_count": 11,
   "id": "5a210bcd",
   "metadata": {},
   "outputs": [
    {
     "name": "stdout",
     "output_type": "stream",
     "text": [
      "specialized\n",
      "\n",
      "KTM\n"
     ]
    }
   ],
   "source": [
    "print(bicycles[-1])\n",
    "print()\n",
    "\n",
    "bike = ['Honda' , 'BMW GS' , 'Kawasaki' , 'Hero' , 'KTM' , 'Yamaha' , 'Scooter']\n",
    "print(bike[-3])"
   ]
  },
  {
   "cell_type": "markdown",
   "id": "d2b61385",
   "metadata": {},
   "source": [
    "Range of indexes.\n",
    "\n",
    "-We can specify a range of indexes by specifying where to start and where to end the range.\n",
    "-When specifying a range, the return value will be a new list with a specified items."
   ]
  },
  {
   "cell_type": "code",
   "execution_count": 12,
   "id": "d8c0fa71",
   "metadata": {},
   "outputs": [
    {
     "name": "stdout",
     "output_type": "stream",
     "text": [
      "['Volkswagen', 'Toyota', 'Subaru']\n",
      "\n",
      "['Kawasaki', 'Hero', 'KTM']\n"
     ]
    }
   ],
   "source": [
    "list4=[\"Audi\",\"BMW\",\"Volkswagen\",\"Toyota\",\"Subaru\",\"Porche\",\"Range Rover\"]\n",
    "#Return list from 2 to 5.\n",
    "print(list4[2:5])\n",
    "print()\n",
    "\n",
    "bike = ['Honda' , 'BMW GS' , 'Kawasaki' , 'Hero' , 'KTM' , 'Yamaha' , 'Scooter']\n",
    "print(bike[2:5])\n",
    "\n",
    "#The search will start at index 2(included) and end at index 5(not included).\n"
   ]
  },
  {
   "cell_type": "code",
   "execution_count": 14,
   "id": "8ac41955",
   "metadata": {},
   "outputs": [
    {
     "name": "stdout",
     "output_type": "stream",
     "text": [
      "['Audi', 'BMW', 'Volkswagen', 'Toyota']\n",
      "\n",
      "['Honda', 'BMW GS', 'Kawasaki', 'Hero']\n"
     ]
    }
   ],
   "source": [
    "#More on ranges and indexing\n",
    "\n",
    "#By leaving out the start value, the range will start at the first item.\n",
    "#(The code returns the items from the begining to, but NOT including, \"Subaru\" and \"KTM\".)\n",
    "\n",
    "print(list4[:4])\n",
    "print()\n",
    "\n",
    "print(bike[:4])"
   ]
  },
  {
   "cell_type": "code",
   "execution_count": 16,
   "id": "67b27b26",
   "metadata": {},
   "outputs": [
    {
     "name": "stdout",
     "output_type": "stream",
     "text": [
      "['Volkswagen', 'Toyota', 'Subaru', 'Porche', 'Range Rover']\n",
      "\n",
      "['Kawasaki', 'Hero', 'KTM', 'Yamaha', 'Scooter']\n"
     ]
    }
   ],
   "source": [
    "#By leaving out the end value, the range will go onto the end of the list.\n",
    "\n",
    "print(list4[2:])\n",
    "print()\n",
    "\n",
    "print(bike[2:])\n",
    "\n",
    "#The example returns the items from \"Volkswagen\" and \"Kawasaki\" to the end of the list.\n"
   ]
  },
  {
   "cell_type": "markdown",
   "id": "71426651",
   "metadata": {},
   "source": [
    "Range of Negative Indexes.\n",
    "\n",
    "-Specify negative indexes if you want to start the search from the end of the list."
   ]
  },
  {
   "cell_type": "code",
   "execution_count": 25,
   "id": "9ace1df6",
   "metadata": {},
   "outputs": [
    {
     "name": "stdout",
     "output_type": "stream",
     "text": [
      "['Volkswagen', 'Toyota', 'Subaru', 'Porche']\n",
      "['Toyota', 'Subaru', 'Porche', 'Range Rover']\n"
     ]
    }
   ],
   "source": [
    "print(list4[-5:-1]) #Returns the items from \"Volkswagen\" [-5] to, but NOT including \"Rangerover\" [-1]\n",
    "print(list4[-4:])"
   ]
  },
  {
   "cell_type": "markdown",
   "id": "1cca64f1",
   "metadata": {},
   "source": [
    "Check if an item is present.\n",
    "\n",
    "-To determine if a specific item is present in a list use the \"in\" keyword."
   ]
  },
  {
   "cell_type": "code",
   "execution_count": 28,
   "id": "49bba911",
   "metadata": {},
   "outputs": [
    {
     "name": "stdout",
     "output_type": "stream",
     "text": [
      "Yes, 'BMW' is in the list.\n",
      "\n"
     ]
    }
   ],
   "source": [
    "if \"BMW\" in list4:\n",
    "    print(\"Yes, 'BMW' is in the list.\")\n",
    "print()\n",
    "\n",
    "if \"Ford\" in list4:\n",
    "    print(\"Yes, 'Ford' is in the list\") #If the item is missing no output will be displayed.\n",
    "    "
   ]
  },
  {
   "cell_type": "code",
   "execution_count": 58,
   "id": "29bd3dcc",
   "metadata": {},
   "outputs": [
    {
     "name": "stdout",
     "output_type": "stream",
     "text": [
      "['Nairobi', 'Kisumu', 'Kitui', 'Mombasa', 'Kakamega', 'Narok', 'Kiambu']\n"
     ]
    }
   ],
   "source": [
    "#Changing values in list.\n",
    "#To change values in a list refer to the index number.\n",
    "\n",
    "list5 = [\"Nairobi\",\"Kisumu\",\"Nakuru\",\"Mombasa\",\"Kakamega\",\"Narok\",\"Kiambu\"]\n",
    "list5[2]=\"Kitui\"\n",
    "print(list5)"
   ]
  },
  {
   "cell_type": "code",
   "execution_count": 59,
   "id": "1191ab3a",
   "metadata": {},
   "outputs": [
    {
     "name": "stdout",
     "output_type": "stream",
     "text": [
      "['Nairobi', 'Kanduyi', 'Cheptais', 'Mombasa', 'Kakamega', 'Narok', 'Kiambu']\n"
     ]
    }
   ],
   "source": [
    "#Change a Range of Item Values\n",
    "#To change the value of items within a specific range, define a list with the new values, and refer to the range of index numbers where you want to insert the new values:\n",
    "\n",
    "list5[1:3] = [\"Kanduyi\" , \"Cheptais\"]\n",
    "print(list5)"
   ]
  },
  {
   "cell_type": "markdown",
   "id": "e01f645c",
   "metadata": {},
   "source": [
    "Insert Items. \n",
    "\n",
    "-To insert a new list item, without replacing any of the existing values, we can use the 'insert()' method. -The 'insert()' method inserts an item at the specified index."
   ]
  },
  {
   "cell_type": "code",
   "execution_count": 61,
   "id": "51a9b919",
   "metadata": {},
   "outputs": [
    {
     "name": "stdout",
     "output_type": "stream",
     "text": [
      "['Nairobi', 'Busia', 'Tairi-Mbili', 'Cheptais', 'Mombasa', 'Kakamega', 'Narok', 'Kiambu']\n"
     ]
    }
   ],
   "source": [
    "#If you insert more items than you replace, the new items will be inserted where you specified, and the remaining items will move accordingly:\n",
    "\n",
    "list5[1:2] = [\"Busia\" , \"Tairi-Mbili\"]\n",
    "print(list5)"
   ]
  },
  {
   "cell_type": "code",
   "execution_count": 62,
   "id": "c7a2b294",
   "metadata": {},
   "outputs": [
    {
     "name": "stdout",
     "output_type": "stream",
     "text": [
      "['Nairobi', 'Kwale', 'Cheptais', 'Mombasa', 'Kakamega', 'Narok', 'Kiambu']\n"
     ]
    }
   ],
   "source": [
    "#If you insert less items than you replace, the new items will be inserted where you specified, and the remaining items will move accordingly:\n",
    "\n",
    "list5[1:3] = [\"Kwale\"]\n",
    "print(list5)"
   ]
  },
  {
   "cell_type": "markdown",
   "id": "4cde3b1c",
   "metadata": {},
   "source": [
    "Using the insert() function to insert data into a list."
   ]
  },
  {
   "cell_type": "code",
   "execution_count": 9,
   "id": "a29daf84",
   "metadata": {},
   "outputs": [
    {
     "name": "stdout",
     "output_type": "stream",
     "text": [
      "['bananas', 'Peas', 'apples', 'mangos']\n"
     ]
    }
   ],
   "source": [
    "fruits = [\"bananas\" , \"apples\" , \"mangos\"]\n",
    "fruits.insert(1, \"Peas\")\n",
    "print(fruits)"
   ]
  },
  {
   "cell_type": "markdown",
   "id": "f0bd0e10",
   "metadata": {},
   "source": [
    "Adding items to a list using the append() method.\n",
    "\n",
    "-Appending is adding items at the end of the list."
   ]
  },
  {
   "cell_type": "code",
   "execution_count": 3,
   "id": "702be89e",
   "metadata": {},
   "outputs": [
    {
     "name": "stdout",
     "output_type": "stream",
     "text": [
      "['banana', 'Peas', 'apple', 'mango', 'guavas']\n"
     ]
    }
   ],
   "source": [
    "fruits.append(\"guavas\")\n",
    "print(fruits)"
   ]
  },
  {
   "cell_type": "code",
   "execution_count": 4,
   "id": "c44ebf0b",
   "metadata": {},
   "outputs": [
    {
     "name": "stdout",
     "output_type": "stream",
     "text": [
      "['Auris', 'Land Cruser', 'Vits', 'Camry', 'BMW', 'Audi', 'Volkswagen', 'Volvo']\n"
     ]
    }
   ],
   "source": [
    "#Using extend() method to combine two lists.\n",
    "\n",
    "toyota = [\"Auris\" , \"Land Cruser\" , \"Vits\" , \"Camry\"]\n",
    "german = [\"BMW\" , \"Audi\" , \"Volkswagen\" , \"Volvo\"]\n",
    "\n",
    "toyota.extend(german)\n",
    "print(toyota)"
   ]
  },
  {
   "cell_type": "code",
   "execution_count": 5,
   "id": "5f295361",
   "metadata": {},
   "outputs": [
    {
     "name": "stdout",
     "output_type": "stream",
     "text": [
      "['Auris', 'Land Cruser', 'Camry', 'BMW', 'Audi', 'Volkswagen', 'Volvo']\n"
     ]
    }
   ],
   "source": [
    "#Remove elements from a list usinge the remove() function.\n",
    "\n",
    "toyota.remove(\"Vits\")\n",
    "print(toyota)\n",
    "\n"
   ]
  },
  {
   "cell_type": "code",
   "execution_count": 6,
   "id": "915284ed",
   "metadata": {},
   "outputs": [
    {
     "name": "stdout",
     "output_type": "stream",
     "text": [
      "['BMW', 'Audi', 'Volkswagen']\n"
     ]
    }
   ],
   "source": [
    "#Removing specified index using the keyword.\n",
    "\n",
    "german.pop(3)\n",
    "print(german)"
   ]
  },
  {
   "cell_type": "code",
   "execution_count": 7,
   "id": "7c6e9c55",
   "metadata": {},
   "outputs": [
    {
     "name": "stdout",
     "output_type": "stream",
     "text": [
      "['GS', 'Honda', 'Kawasaki']\n"
     ]
    }
   ],
   "source": [
    "#Using pop() method without specifying the index of an item it removes the last item in the list.\n",
    "\n",
    "motorbike = [\"GS\" , \"Honda\" , \"Kawasaki\" , \"Yamaha\"]\n",
    "motorbike.pop()\n",
    "print(motorbike)"
   ]
  },
  {
   "cell_type": "code",
   "execution_count": 8,
   "id": "db0f05fe",
   "metadata": {},
   "outputs": [
    {
     "name": "stdout",
     "output_type": "stream",
     "text": [
      "['GS', 'Honda']\n"
     ]
    }
   ],
   "source": [
    "#Removing list elements by using the delete method del().\n",
    "\n",
    "del motorbike[2]\n",
    "print(motorbike)"
   ]
  },
  {
   "cell_type": "code",
   "execution_count": 9,
   "id": "849df29a",
   "metadata": {},
   "outputs": [
    {
     "ename": "NameError",
     "evalue": "name 'motorbike' is not defined",
     "output_type": "error",
     "traceback": [
      "\u001b[1;31m---------------------------------------------------------------------------\u001b[0m",
      "\u001b[1;31mNameError\u001b[0m                                 Traceback (most recent call last)",
      "Cell \u001b[1;32mIn[9], line 4\u001b[0m\n\u001b[0;32m      1\u001b[0m \u001b[38;5;66;03m#del() can also be used to delete the entire list.\u001b[39;00m\n\u001b[0;32m      3\u001b[0m \u001b[38;5;28;01mdel\u001b[39;00m motorbike\n\u001b[1;32m----> 4\u001b[0m \u001b[38;5;28mprint\u001b[39m(\u001b[43mmotorbike\u001b[49m)\n",
      "\u001b[1;31mNameError\u001b[0m: name 'motorbike' is not defined"
     ]
    }
   ],
   "source": [
    "#del() can also be used to delete the entire list.\n",
    "\n",
    "del motorbike\n",
    "print(motorbike)"
   ]
  },
  {
   "cell_type": "code",
   "execution_count": 10,
   "id": "a8e60df7",
   "metadata": {},
   "outputs": [
    {
     "name": "stdout",
     "output_type": "stream",
     "text": [
      "[]\n"
     ]
    }
   ],
   "source": [
    "#Removing elements using clear()\n",
    "#clear() method removes the contents of the list, but the list remains.\n",
    "motorbike = ['GS', 'Honda' , 'Kawaski']\n",
    "motorbike.clear()\n",
    "print(motorbike)"
   ]
  },
  {
   "cell_type": "markdown",
   "id": "99f73066",
   "metadata": {},
   "source": [
    "LOOPING THROUGH AN ENTIRE LIST.\n",
    "\n",
    "-We will often want to run all entries in a list performing the same task with each item.\n",
    "-For example, in a game we might want to move every\n",
    "element on the screen by the same amount, or in a list of numbers we\n",
    "might want to perform the same statistical operation on every element. Or\n",
    "perhaps we will want to display each headline from a list of articles on a website.\n",
    "When we want to do the same action with every item in a list, we can\n",
    "use Python’s 'for' loop."
   ]
  },
  {
   "cell_type": "code",
   "execution_count": 1,
   "id": "6c0a5b1b",
   "metadata": {},
   "outputs": [
    {
     "name": "stdout",
     "output_type": "stream",
     "text": [
      "Alice\n",
      "John\n",
      "Jane\n",
      "Tom\n",
      "\n",
      "Audi\n",
      "BMW\n",
      "land rovers\n",
      "Camry\n"
     ]
    }
   ],
   "source": [
    "students = [\"Alice\" , \"John\" , \"Jane\" , \"Tom\"]\n",
    "for student in students:\n",
    "    print(student)\n",
    "    \n",
    "print()\n",
    "\n",
    "#We begin by defining a list in 1\n",
    "#At 2 we drfine a for loop, this line tells Python to pull a name on the list students and store it in the variable student.\n",
    "#At 3 we tell Python to print the name that was just stored in student.\n",
    "#Python will then repeat line 2 and 3 once for each name in the list.\n",
    "#It might help to read this code as:\n",
    "# “For every student in the list of students, print the student’s name.”\n",
    "    \n",
    "machines = [\"Audi\" , \"BMW\" , \"land rovers\" , \"Camry\"]\n",
    "for machine in machines:\n",
    "    print(machine)"
   ]
  },
  {
   "cell_type": "code",
   "execution_count": 12,
   "id": "2a67704d",
   "metadata": {},
   "outputs": [
    {
     "name": "stdout",
     "output_type": "stream",
     "text": [
      "Nairobi\n",
      "Kisumu\n",
      "Kwale\n",
      "Nakuru\n"
     ]
    }
   ],
   "source": [
    "counties = [\"Nairobi\" , \"Kisumu\" , \"Kwale\" , \"Nakuru\"]\n",
    "for y in counties:\n",
    "    print(y)"
   ]
  },
  {
   "cell_type": "code",
   "execution_count": 15,
   "id": "47918dae",
   "metadata": {},
   "outputs": [
    {
     "name": "stdout",
     "output_type": "stream",
     "text": [
      "Kiambu\n",
      "Narok\n",
      "Meru\n",
      "Eldoret\n"
     ]
    }
   ],
   "source": [
    "#Printing all items by refering to there index number.\n",
    "\n",
    "towns = [\"Kiambu\" , \"Narok\" , \"Meru\" , \"Eldoret\"]\n",
    "for z in range(len(towns)):\n",
    "    print(towns[z])"
   ]
  },
  {
   "cell_type": "code",
   "execution_count": 17,
   "id": "5999d7d8",
   "metadata": {},
   "outputs": [
    {
     "name": "stdout",
     "output_type": "stream",
     "text": [
      "Kenya\n",
      "Tanzania\n",
      "Uganda\n",
      "Nigeria\n",
      "Congo\n"
     ]
    }
   ],
   "source": [
    "#Printing all items using the while loop.\n",
    "\n",
    "africa = [\"Kenya\" , \"Tanzania\" , \"Uganda\" , \"Nigeria\" , \"Congo\"]\n",
    "b = 0\n",
    "while b < len(africa):\n",
    "    print(africa[b])\n",
    "    b = b + 1"
   ]
  },
  {
   "cell_type": "code",
   "execution_count": 18,
   "id": "8cf3dcb2",
   "metadata": {},
   "outputs": [
    {
     "name": "stdout",
     "output_type": "stream",
     "text": [
      "Kiambu\n",
      "Narok\n",
      "Meru\n",
      "Eldoret\n"
     ]
    },
    {
     "data": {
      "text/plain": [
       "[None, None, None, None]"
      ]
     },
     "execution_count": 18,
     "metadata": {},
     "output_type": "execute_result"
    }
   ],
   "source": [
    "#Using the shorthand for loop.\n",
    "\n",
    "towns = [\"Kiambu\" , \"Narok\" , \"Meru\" , \"Eldoret\"]\n",
    "[print(d) for d in towns]"
   ]
  },
  {
   "cell_type": "markdown",
   "id": "f1162301",
   "metadata": {},
   "source": [
    "Sorting lists "
   ]
  },
  {
   "cell_type": "code",
   "execution_count": 20,
   "id": "2aba4c03",
   "metadata": {},
   "outputs": [
    {
     "name": "stdout",
     "output_type": "stream",
     "text": [
      "['Eldoret', 'Kiambu', 'Meru', 'Narok']\n"
     ]
    }
   ],
   "source": [
    "#Sorting the list alphabetically using the sort() function.\n",
    "\n",
    "towns = [\"Kiambu\" , \"Narok\" , \"Meru\" , \"Eldoret\"]\n",
    "\n",
    "\n",
    "\n",
    "\n",
    "towns.sort()\n",
    "print(towns)"
   ]
  },
  {
   "cell_type": "code",
   "execution_count": 2,
   "id": "7a21d721",
   "metadata": {},
   "outputs": [
    {
     "name": "stdout",
     "output_type": "stream",
     "text": [
      "[12, 23, 38, 56, 102]\n"
     ]
    }
   ],
   "source": [
    "#Sorting the list numerically.\n",
    "\n",
    "age = [102 , 56 , 38 , 23 , 12]\n",
    "age.sort()\n",
    "print(age)"
   ]
  },
  {
   "cell_type": "code",
   "execution_count": 7,
   "id": "583abf9e",
   "metadata": {},
   "outputs": [
    {
     "name": "stdout",
     "output_type": "stream",
     "text": [
      "['Narok', 'Meru', 'Kiambu', 'Eldoret']\n",
      "\n",
      "[102, 56, 38, 23, 12]\n"
     ]
    }
   ],
   "source": [
    "#Sorting in ascending order.\n",
    "\n",
    "towns = [\"Kiambu\" , \"Narok\" , \"Meru\" , \"Eldoret\"]\n",
    "towns.sort(reverse = True)\n",
    "print(towns)\n",
    "\n",
    "print()\n",
    "\n",
    "age = [102 , 56 , 38 , 23 , 12]\n",
    "age.sort(reverse = True)\n",
    "print(age)"
   ]
  },
  {
   "cell_type": "code",
   "execution_count": 8,
   "id": "187bb6f4",
   "metadata": {},
   "outputs": [
    {
     "name": "stdout",
     "output_type": "stream",
     "text": [
      "['Eldoret', 'Kiambu', 'Meru', 'Narok']\n",
      "\n",
      "[12, 23, 38, 56, 102]\n"
     ]
    }
   ],
   "source": [
    "#Sorting in descending order.\n",
    "\n",
    "towns = [\"Kiambu\" , \"Narok\" , \"Meru\" , \"Eldoret\"]\n",
    "towns.sort(reverse = False)\n",
    "print(towns)\n",
    "\n",
    "print()\n",
    "\n",
    "age = [102 , 56 , 38 , 23 , 12]\n",
    "age.sort(reverse = False)\n",
    "print(age)"
   ]
  },
  {
   "cell_type": "code",
   "execution_count": 6,
   "id": "5052dedf",
   "metadata": {},
   "outputs": [
    {
     "name": "stdout",
     "output_type": "stream",
     "text": [
      "[50, 65, 23, 82, 100]\n"
     ]
    }
   ],
   "source": [
    "def myfunc(n):\n",
    "    return abs(n - 50)\n",
    "\n",
    "thislist = [100, 50, 65, 82, 23]\n",
    "thislist.sort(key = myfunc)\n",
    "print(thislist)"
   ]
  },
  {
   "cell_type": "code",
   "execution_count": 1,
   "id": "fcdd618c",
   "metadata": {},
   "outputs": [
    {
     "name": "stdout",
     "output_type": "stream",
     "text": [
      "['a', 'b', 'c', 1, 2, 3]\n"
     ]
    }
   ],
   "source": [
    "#Joining lists using append()\n",
    "\n",
    "list1 = [\"a\" , \"b\" , \"c\"]\n",
    "list2 = [1 , 2 , 3]\n",
    "\n",
    "for x in list2:\n",
    "    list1.append(x)\n",
    "    \n",
    "print(list1)    "
   ]
  },
  {
   "cell_type": "code",
   "execution_count": 3,
   "id": "e866f2bf",
   "metadata": {},
   "outputs": [
    {
     "name": "stdout",
     "output_type": "stream",
     "text": [
      "['a', 'b', 'c', 1, 2, 3]\n"
     ]
    }
   ],
   "source": [
    "#Joining two lists\n",
    "\n",
    "list3 = [\"a\" , \"b\" , \"c\"]\n",
    "list4 = [1 , 2 , 3]\n",
    "\n",
    "list5 = list3 + list4\n",
    "print(list5)"
   ]
  },
  {
   "cell_type": "markdown",
   "id": "a47e048d",
   "metadata": {},
   "source": [
    "# Tuple."
   ]
  },
  {
   "cell_type": "markdown",
   "id": "dc98e744",
   "metadata": {},
   "source": [
    "Tuples are used to store multiple items in a single variable.\n",
    "It is a collection which is ordered and unchangeable."
   ]
  },
  {
   "cell_type": "code",
   "execution_count": 6,
   "id": "cb344903",
   "metadata": {},
   "outputs": [
    {
     "name": "stdout",
     "output_type": "stream",
     "text": [
      "('apple', 'mango', 'banana')\n",
      "\n"
     ]
    }
   ],
   "source": [
    "thisistuple = (\"apple\" , \"mango\" , \"banana\")\n",
    "print(thisistuple)\n",
    "print()"
   ]
  },
  {
   "cell_type": "markdown",
   "id": "8a92b3a1",
   "metadata": {},
   "source": [
    "-Tuple items are ordered, unchangable and allow duplicate values\n",
    "-Tuple items are indexed, the first item has index [0], the second item has index [1] etc.\n",
    "-Allows duplicate."
   ]
  },
  {
   "cell_type": "code",
   "execution_count": 8,
   "id": "f7f43cb3",
   "metadata": {},
   "outputs": [
    {
     "name": "stdout",
     "output_type": "stream",
     "text": [
      "('banana', 'apple', 'mango', 'apple')\n"
     ]
    }
   ],
   "source": [
    "#Allows duplicate.\n",
    "\n",
    "fruits = (\"banana\" , \"apple\" , \"mango\" , \"apple\")"
   ]
  },
  {
   "cell_type": "code",
   "execution_count": 9,
   "id": "cf5528df",
   "metadata": {},
   "outputs": [
    {
     "name": "stdout",
     "output_type": "stream",
     "text": [
      "4\n"
     ]
    }
   ],
   "source": [
    "#Checking the length using the len function.\n",
    "\n",
    "fruits = (\"banana\" , \"apple\" , \"mango\" , \"apple\")\n",
    "print(len(fruits))"
   ]
  },
  {
   "cell_type": "code",
   "execution_count": 10,
   "id": "57d04535",
   "metadata": {},
   "outputs": [
    {
     "name": "stdout",
     "output_type": "stream",
     "text": [
      "('apple',)\n",
      "<class 'tuple'>\n"
     ]
    }
   ],
   "source": [
    "#creating a tuple with one item, remember to put a comma.\n",
    "\n",
    "fruit = (\"apple\" ,)\n",
    "print(fruit)\n",
    "print(type(fruit))"
   ]
  },
  {
   "cell_type": "markdown",
   "id": "664dbad9",
   "metadata": {},
   "source": [
    "-Without the comma in the end , it is not a tuple.\n",
    "\n",
    "-The tuple() constructor it is also possible to use the tuple() constructor to make a tuple."
   ]
  },
  {
   "cell_type": "code",
   "execution_count": 11,
   "id": "0456e171",
   "metadata": {},
   "outputs": [
    {
     "name": "stdout",
     "output_type": "stream",
     "text": [
      "('apple', 'banana', 'mango')\n"
     ]
    }
   ],
   "source": [
    "fruits = tuple((\"apple\" , \"banana\" , \"mango\")) #Note the double round-brackets\n",
    "print(fruits)"
   ]
  },
  {
   "cell_type": "code",
   "execution_count": 12,
   "id": "81eb282b",
   "metadata": {},
   "outputs": [
    {
     "name": "stdout",
     "output_type": "stream",
     "text": [
      "banana\n"
     ]
    }
   ],
   "source": [
    "#Accessing tuple items\n",
    "\n",
    "fruits = (\"apple\" , \"banana\" , \"mango\")\n",
    "print(fruits[1])"
   ]
  },
  {
   "cell_type": "code",
   "execution_count": 13,
   "id": "1b040dc7",
   "metadata": {},
   "outputs": [
    {
     "name": "stdout",
     "output_type": "stream",
     "text": [
      "mango\n"
     ]
    }
   ],
   "source": [
    "#Negative indexing.\n",
    "\n",
    "fruits = (\"apple\" , \"banana\" , \"mango\")\n",
    "print(fruits[-1])"
   ]
  },
  {
   "cell_type": "code",
   "execution_count": 14,
   "id": "51d2f717",
   "metadata": {},
   "outputs": [
    {
     "name": "stdout",
     "output_type": "stream",
     "text": [
      "('cherry', 'oranges', 'kiwi')\n"
     ]
    }
   ],
   "source": [
    "#You can specify a range of indexes.\n",
    "\n",
    "fruits = (\"apple\" , \"banana\" , \"cherry\" , \"oranges\" , \"kiwi\" , \"melon\" , \"mango\")\n",
    "print(fruits[2:5])"
   ]
  },
  {
   "cell_type": "code",
   "execution_count": 15,
   "id": "2316e857",
   "metadata": {},
   "outputs": [
    {
     "name": "stdout",
     "output_type": "stream",
     "text": [
      "('apple', 'banana', 'cherry', 'orange')\n"
     ]
    }
   ],
   "source": [
    "fruits = (\"apple\", \"banana\", \"cherry\", \"orange\", \"kiwi\", \"melon\", \"mango\")\n",
    "print(fruits[:4])\n"
   ]
  },
  {
   "cell_type": "code",
   "execution_count": 17,
   "id": "6fb5d23c",
   "metadata": {},
   "outputs": [
    {
     "name": "stdout",
     "output_type": "stream",
     "text": [
      "('cherry', 'orange', 'kiwi', 'melon', 'mango')\n"
     ]
    }
   ],
   "source": [
    "#By leaving out the end value, the range will go on to the end of the tuple:\n",
    "\n",
    "fruits = (\"apple\", \"banana\", \"cherry\", \"orange\", \"kiwi\", \"melon\", \"mango\")\n",
    "print(fruits[2:])"
   ]
  },
  {
   "cell_type": "markdown",
   "id": "5828e139",
   "metadata": {},
   "source": [
    "Range of Negative Indexes\n",
    "\n",
    "-Specify negative indexes if you want to start the search from the end of the tuple:"
   ]
  },
  {
   "cell_type": "code",
   "execution_count": 18,
   "id": "8535b669",
   "metadata": {},
   "outputs": [
    {
     "name": "stdout",
     "output_type": "stream",
     "text": [
      "('orange', 'kiwi', 'melon')\n"
     ]
    }
   ],
   "source": [
    "fruits = (\"apple\", \"banana\", \"cherry\", \"orange\", \"kiwi\", \"melon\", \"mango\")\n",
    "print(fruits[-4:-1])\n",
    "\n",
    "#This example returns the items from index -4 (included) to index -1 (excluded)"
   ]
  },
  {
   "cell_type": "markdown",
   "id": "2c91316c",
   "metadata": {},
   "source": [
    "# Sets."
   ]
  },
  {
   "cell_type": "markdown",
   "id": "14ea6d91",
   "metadata": {},
   "source": [
    "-Sets are unordered collections of unique elements. \n",
    "-They are mutable, meaning you can add or remove elements from them.\n",
    "-Sets are created by enclosing comma-separated elements within culry braces '{}'."
   ]
  },
  {
   "cell_type": "code",
   "execution_count": 1,
   "id": "8504ef23",
   "metadata": {},
   "outputs": [
    {
     "name": "stdout",
     "output_type": "stream",
     "text": [
      "{1, 2, 3, 4, 5, 6}\n"
     ]
    }
   ],
   "source": [
    "#Creating a set.\n",
    "first_set = {1,2,3,4,5,6}\n",
    "print(first_set)"
   ]
  },
  {
   "cell_type": "code",
   "execution_count": 2,
   "id": "c3f23401",
   "metadata": {},
   "outputs": [
    {
     "name": "stdout",
     "output_type": "stream",
     "text": [
      "{1, 2, 3, 4, 5, 6}\n"
     ]
    }
   ],
   "source": [
    "#Adding Elements in a set.\n",
    "#To aadd elements we use the add() method.\n",
    "\n",
    "first_set = {1,2,3,4,5}\n",
    "first_set.add(6)\n",
    "print(first_set)"
   ]
  },
  {
   "cell_type": "code",
   "execution_count": 7,
   "id": "c223123c",
   "metadata": {},
   "outputs": [
    {
     "name": "stdout",
     "output_type": "stream",
     "text": [
      "{1, 2, 3, 4, 5, 6, 7, 8, 9}\n"
     ]
    }
   ],
   "source": [
    "#To adding more than one argument to a set, we use the update() method.\n",
    "first_set.update([7,8,9])\n",
    "print(first_set)"
   ]
  },
  {
   "cell_type": "code",
   "execution_count": 8,
   "id": "cc5d1ce4",
   "metadata": {},
   "outputs": [
    {
     "name": "stdout",
     "output_type": "stream",
     "text": [
      "{1, 2, 3, 5, 6, 7, 8, 9}\n"
     ]
    }
   ],
   "source": [
    "#Removing Elements.\n",
    "#You can remove elements using a remove() method. If the element is not present, it will raisse a keyerror.\n",
    "#Alternatively you can use the discard() method, which wont raise an error if the element is not present.\n",
    "\n",
    "first_set.remove(4)\n",
    "print(first_set)\n"
   ]
  },
  {
   "cell_type": "code",
   "execution_count": 16,
   "id": "5d44eeb9",
   "metadata": {},
   "outputs": [
    {
     "ename": "KeyError",
     "evalue": "2",
     "output_type": "error",
     "traceback": [
      "\u001b[1;31m---------------------------------------------------------------------------\u001b[0m",
      "\u001b[1;31mKeyError\u001b[0m                                  Traceback (most recent call last)",
      "Cell \u001b[1;32mIn[16], line 2\u001b[0m\n\u001b[0;32m      1\u001b[0m second_set \u001b[38;5;241m=\u001b[39m {\u001b[38;5;241m1\u001b[39m,\u001b[38;5;241m3\u001b[39m,\u001b[38;5;241m5\u001b[39m}\n\u001b[1;32m----> 2\u001b[0m \u001b[43msecond_set\u001b[49m\u001b[38;5;241;43m.\u001b[39;49m\u001b[43mremove\u001b[49m\u001b[43m(\u001b[49m\u001b[38;5;241;43m2\u001b[39;49m\u001b[43m)\u001b[49m\n\u001b[0;32m      3\u001b[0m \u001b[38;5;28mprint\u001b[39m(second_set)\n",
      "\u001b[1;31mKeyError\u001b[0m: 2"
     ]
    }
   ],
   "source": [
    "second_set = {1,3,5}\n",
    "second_set.remove(2)\n",
    "print(second_set)"
   ]
  },
  {
   "cell_type": "code",
   "execution_count": 14,
   "id": "06e77eea",
   "metadata": {},
   "outputs": [
    {
     "name": "stdout",
     "output_type": "stream",
     "text": [
      "{1, 3, 5}\n"
     ]
    }
   ],
   "source": [
    "second_set ={1,3,5}\n",
    "second_set.discard(2)\n",
    "print(second_set)"
   ]
  },
  {
   "cell_type": "code",
   "execution_count": 13,
   "id": "fb65f82f",
   "metadata": {},
   "outputs": [
    {
     "name": "stdout",
     "output_type": "stream",
     "text": [
      "{1, 2, 3, 5, 6, 7, 8, 9}\n"
     ]
    }
   ],
   "source": [
    "first_set.discard(0)\n",
    "print(first_set)"
   ]
  },
  {
   "cell_type": "code",
   "execution_count": 18,
   "id": "c836467b",
   "metadata": {},
   "outputs": [
    {
     "name": "stdout",
     "output_type": "stream",
     "text": [
      "8\n",
      "3\n"
     ]
    }
   ],
   "source": [
    "#Length: You can find the length of a set using the len() function.\n",
    "\n",
    "print(len(first_set))\n",
    "print(len(second_set))"
   ]
  },
  {
   "cell_type": "code",
   "execution_count": 19,
   "id": "088f229d",
   "metadata": {},
   "outputs": [
    {
     "name": "stdout",
     "output_type": "stream",
     "text": [
      "True\n",
      "True\n"
     ]
    }
   ],
   "source": [
    "#Membership: You can check if the element is present using the 'in' operator.\n",
    "\n",
    "print(6 in first_set)\n",
    "print(1 in second_set)"
   ]
  },
  {
   "cell_type": "code",
   "execution_count": 21,
   "id": "579287fe",
   "metadata": {},
   "outputs": [
    {
     "name": "stdout",
     "output_type": "stream",
     "text": [
      "1\n",
      "2\n",
      "3\n",
      "5\n",
      "6\n",
      "7\n",
      "8\n",
      "9\n",
      "\n",
      "1\n",
      "3\n",
      "5\n"
     ]
    }
   ],
   "source": [
    "#Iteration: You can iterate over the elements of a set using a loop.\n",
    "\n",
    "for num in first_set:\n",
    "    print(num)\n",
    "    \n",
    "print()\n",
    "\n",
    "for item in second_set:\n",
    "    print(item)"
   ]
  },
  {
   "cell_type": "code",
   "execution_count": 22,
   "id": "d7c43c1d",
   "metadata": {},
   "outputs": [
    {
     "name": "stdout",
     "output_type": "stream",
     "text": [
      "{1, 2, 3, 4, 5, 6}\n"
     ]
    }
   ],
   "source": [
    "#Union: You can perform a union of two sets using the 'union()' method or the '|' operator.\n",
    "\n",
    "set1 = {1,2,3}\n",
    "set2 = {4,5,6}\n",
    "union_set = set1.union(set2)\n",
    "print(union_set)"
   ]
  },
  {
   "cell_type": "code",
   "execution_count": 23,
   "id": "a6b6c023",
   "metadata": {},
   "outputs": [
    {
     "name": "stdout",
     "output_type": "stream",
     "text": [
      "set()\n"
     ]
    }
   ],
   "source": [
    "#Intersection: You can perform an intersection of two sets using the 'intersection()' method or the '&' operator.\n",
    "\n",
    "intersection_set = set1.intersection(set2)\n",
    "print(intersection_set)\n",
    "\n",
    "#Alternatevily we can use: intersection_set = set1 & set2"
   ]
  },
  {
   "cell_type": "code",
   "execution_count": 25,
   "id": "a80e573a",
   "metadata": {},
   "outputs": [
    {
     "name": "stdout",
     "output_type": "stream",
     "text": [
      "{1, 2, 3}\n"
     ]
    }
   ],
   "source": [
    "#Difference: You can find the difference between two sets using the 'difference()' method or the '-' operator.\n",
    "\n",
    "diff_set = set1.difference(set2)\n",
    "print(diff_set)"
   ]
  },
  {
   "cell_type": "markdown",
   "id": "496e2010",
   "metadata": {},
   "source": [
    "# Dictionary.\n",
    "-They are to store data values in key: value pairs.\n",
    "\n",
    "-Its ordered, changeable and does not allow duplicates.\n",
    "\n",
    "-They are written in curly brackets, and have keys and values."
   ]
  },
  {
   "cell_type": "code",
   "execution_count": 2,
   "id": "89134dcb",
   "metadata": {},
   "outputs": [
    {
     "name": "stdout",
     "output_type": "stream",
     "text": [
      "{'brand': 'BMW', 'Model': 'GS1250', 'Year': 2020}\n"
     ]
    }
   ],
   "source": [
    "dict_1 = {\n",
    "    \"brand\" : \"BMW\",\n",
    "    \"Model\" : \"GS1250\",\n",
    "    \"Year\" : 2020\n",
    "}\n",
    "print(dict_1)"
   ]
  },
  {
   "cell_type": "code",
   "execution_count": 3,
   "id": "fd1554c6",
   "metadata": {},
   "outputs": [
    {
     "name": "stdout",
     "output_type": "stream",
     "text": [
      "GS1250\n"
     ]
    }
   ],
   "source": [
    "#Refering a key value in dictionaries.\n",
    "\n",
    "print(dict_1[\"Model\"])"
   ]
  },
  {
   "cell_type": "code",
   "execution_count": 5,
   "id": "e43a433e",
   "metadata": {},
   "outputs": [
    {
     "name": "stdout",
     "output_type": "stream",
     "text": [
      "{'brand': 'BMW', 'Model': 'GS1250', 'Year': 2024}\n"
     ]
    }
   ],
   "source": [
    "#overwriting values in dictionaries.\n",
    "\n",
    "dict_1 = {\n",
    "    \"brand\" : \"BMW\",\n",
    "    \"Model\" : \"GS1250\",\n",
    "    \"Year\" : 2020,\n",
    "    \"Year\" : 2024\n",
    "}\n",
    "\n",
    "print(dict_1)"
   ]
  },
  {
   "cell_type": "code",
   "execution_count": 6,
   "id": "1bb10f13",
   "metadata": {},
   "outputs": [
    {
     "name": "stdout",
     "output_type": "stream",
     "text": [
      "3\n"
     ]
    }
   ],
   "source": [
    "#Checking the length of the dictionary using the len() function.\n",
    "\n",
    "print(len(dict_1))"
   ]
  },
  {
   "cell_type": "code",
   "execution_count": 8,
   "id": "7f9d6f1c",
   "metadata": {},
   "outputs": [
    {
     "name": "stdout",
     "output_type": "stream",
     "text": [
      "{'Name': 'Jacob', 'Age': 28, 'County': 'Nakuru'}\n"
     ]
    }
   ],
   "source": [
    "#Using the dict() constructor to make a dictionary.\n",
    "\n",
    "register = dict(Name = \"Jacob\" , Age = 28 , County = \"Nakuru\")\n",
    "print(register)"
   ]
  },
  {
   "cell_type": "code",
   "execution_count": 10,
   "id": "550166f8",
   "metadata": {},
   "outputs": [
    {
     "name": "stdout",
     "output_type": "stream",
     "text": [
      "GS1250\n"
     ]
    }
   ],
   "source": [
    "#Getting the value of a key using the get() function.\n",
    "\n",
    "y = dict_1.get(\"Model\")\n",
    "print(y)"
   ]
  },
  {
   "cell_type": "code",
   "execution_count": 11,
   "id": "1a6b2ed1",
   "metadata": {},
   "outputs": [
    {
     "name": "stdout",
     "output_type": "stream",
     "text": [
      "dict_keys(['brand', 'Model', 'Year'])\n"
     ]
    }
   ],
   "source": [
    "#Getting the keys in the dictionary using the keys() method.\n",
    "\n",
    "x = dict_1.keys()\n",
    "print(x)"
   ]
  },
  {
   "cell_type": "code",
   "execution_count": 12,
   "id": "d30557cf",
   "metadata": {},
   "outputs": [
    {
     "name": "stdout",
     "output_type": "stream",
     "text": [
      "{'brand': 'BMW', 'Model': 'GS1250', 'Year': 2024, 'Price': 1200000}\n"
     ]
    }
   ],
   "source": [
    "dict_1[\"Price\"] = 1200000\n",
    "print(dict_1)"
   ]
  },
  {
   "cell_type": "code",
   "execution_count": 13,
   "id": "673db97a",
   "metadata": {},
   "outputs": [
    {
     "name": "stdout",
     "output_type": "stream",
     "text": [
      "dict_values(['BMW', 'GS1250', 2024, 1200000])\n"
     ]
    }
   ],
   "source": [
    "#Getting the values in the dictionary using the values() method.\n",
    "\n",
    "z = dict_1.values()\n",
    "print(z)"
   ]
  },
  {
   "cell_type": "code",
   "execution_count": 14,
   "id": "f848e39f",
   "metadata": {},
   "outputs": [
    {
     "name": "stdout",
     "output_type": "stream",
     "text": [
      "dict_items([('brand', 'BMW'), ('Model', 'GS1250'), ('Year', 2024), ('Price', 1200000)])\n"
     ]
    }
   ],
   "source": [
    "#Items() method returns each item in the dictionary, as tuples in a list.\n",
    "\n",
    "v = dict_1.items()\n",
    "print(v)"
   ]
  },
  {
   "cell_type": "code",
   "execution_count": 16,
   "id": "0cbbeffe",
   "metadata": {},
   "outputs": [
    {
     "name": "stdout",
     "output_type": "stream",
     "text": [
      "{'brand': 'BMW', 'Model': 'GS1250', 'Year': 2024, 'Price': 1500000}\n"
     ]
    }
   ],
   "source": [
    "#Updatae dictionary using the update() method.\n",
    "#The update() method will update the dictionary with the items from the given argument.\n",
    "#The argument must be a dictionary, or an iterable object with key:value pairs.\n",
    "\n",
    "dict_1.update({\"Price\" : 1500000})\n",
    "print(dict_1)"
   ]
  },
  {
   "cell_type": "code",
   "execution_count": 17,
   "id": "75f01e6b",
   "metadata": {},
   "outputs": [
    {
     "name": "stdout",
     "output_type": "stream",
     "text": [
      "{'brand': 'BMW', 'Model': 'GS1250', 'Year': 2024}\n"
     ]
    }
   ],
   "source": [
    "#REMOVING ITEMS.\n",
    "#Using pop() method to remove items with a specified key name.\n",
    "\n",
    "dict_1.pop(\"Price\")\n",
    "print(dict_1)"
   ]
  },
  {
   "cell_type": "code",
   "execution_count": 18,
   "id": "d5c6e8ef",
   "metadata": {},
   "outputs": [
    {
     "name": "stdout",
     "output_type": "stream",
     "text": [
      "{'brand': 'BMW', 'Model': 'GS1250'}\n"
     ]
    }
   ],
   "source": [
    "#Using ppopitem() method - This removes the last inserted item.\n",
    "\n",
    "dict_1.popitem()\n",
    "print(dict_1)"
   ]
  },
  {
   "cell_type": "code",
   "execution_count": 20,
   "id": "9faa0e19",
   "metadata": {},
   "outputs": [
    {
     "name": "stdout",
     "output_type": "stream",
     "text": [
      "{'Model': 'GS1250'}\n"
     ]
    }
   ],
   "source": [
    "#Using del() method - It removes item with the specified key name.\n",
    "\n",
    "del dict_1[\"brand\"]\n",
    "print(dict_1)"
   ]
  },
  {
   "cell_type": "code",
   "execution_count": 21,
   "id": "e18388dd",
   "metadata": {},
   "outputs": [
    {
     "name": "stdout",
     "output_type": "stream",
     "text": [
      "{}\n"
     ]
    }
   ],
   "source": [
    "#Using clear() method - This empties the dictionary.\n",
    "\n",
    "dict_1.clear()\n",
    "print(dict_1)"
   ]
  },
  {
   "cell_type": "code",
   "execution_count": 22,
   "id": "29d28a89",
   "metadata": {},
   "outputs": [
    {
     "name": "stdout",
     "output_type": "stream",
     "text": [
      "{'Brand': 'BMW', 'Model': 'GS 1250', 'Year': 2020}\n",
      "Brand\n",
      "Model\n",
      "Year\n"
     ]
    }
   ],
   "source": [
    "#Looping through a dictionary.\n",
    "\n",
    "dict_2 = {\n",
    "    \"Brand\" : \"BMW\", \n",
    "    \"Model\" : \"GS 1250\",\n",
    "    \"Year\" : 2020\n",
    "}\n",
    "print(dict_2)\n",
    "\n",
    "for x in dict_2:\n",
    "    print(x)"
   ]
  },
  {
   "cell_type": "code",
   "execution_count": 23,
   "id": "a577e384",
   "metadata": {},
   "outputs": [
    {
     "name": "stdout",
     "output_type": "stream",
     "text": [
      "BMW\n",
      "GS 1250\n",
      "2020\n"
     ]
    }
   ],
   "source": [
    "#Using the value() method to return values of a dictionary\n",
    "\n",
    "for y in dict_2.values():\n",
    "    print(y)"
   ]
  },
  {
   "cell_type": "code",
   "execution_count": 24,
   "id": "07cda773",
   "metadata": {},
   "outputs": [
    {
     "name": "stdout",
     "output_type": "stream",
     "text": [
      "Brand BMW\n",
      "Model GS 1250\n",
      "Year 2020\n"
     ]
    }
   ],
   "source": [
    "#Loop through both keys and values, by using the items() method.\n",
    "\n",
    "for x, y in dict_2.items():\n",
    "    print(x,y)"
   ]
  },
  {
   "cell_type": "code",
   "execution_count": 25,
   "id": "ac596255",
   "metadata": {},
   "outputs": [
    {
     "name": "stdout",
     "output_type": "stream",
     "text": [
      "{'Brand': 'BMW', 'Model': 'GS 1250', 'Year': 2020}\n"
     ]
    }
   ],
   "source": [
    "#Copy dictionary by using the copy() method.\n",
    "\n",
    "dict_3 = dict_2.copy()\n",
    "print(dict_3)"
   ]
  },
  {
   "cell_type": "code",
   "execution_count": 26,
   "id": "1dfa2574",
   "metadata": {},
   "outputs": [
    {
     "name": "stdout",
     "output_type": "stream",
     "text": [
      "{'Brand': 'BMW', 'Model': 'GS 1250', 'Year': 2020}\n"
     ]
    }
   ],
   "source": [
    "#Making a copy of the dictionary using the dict() function.\n",
    "\n",
    "dict_4 =dict(dict_2)\n",
    "print(dict_4)"
   ]
  },
  {
   "cell_type": "code",
   "execution_count": null,
   "id": "b8aaed72",
   "metadata": {},
   "outputs": [],
   "source": []
  }
 ],
 "metadata": {
  "kernelspec": {
   "display_name": "Python 3 (ipykernel)",
   "language": "python",
   "name": "python3"
  },
  "language_info": {
   "codemirror_mode": {
    "name": "ipython",
    "version": 3
   },
   "file_extension": ".py",
   "mimetype": "text/x-python",
   "name": "python",
   "nbconvert_exporter": "python",
   "pygments_lexer": "ipython3",
   "version": "3.10.9"
  }
 },
 "nbformat": 4,
 "nbformat_minor": 5
}
