{
 "cells": [
  {
   "cell_type": "markdown",
   "id": "0806b438",
   "metadata": {},
   "source": [
    "# Exercise on Lists."
   ]
  },
  {
   "cell_type": "markdown",
   "id": "9bed75a9",
   "metadata": {},
   "source": [
    "1. NAMES: Store the names of a few of your friends in a list called names. Print\n",
    "each person’s name by accessing each element in the list, one at a time."
   ]
  },
  {
   "cell_type": "code",
   "execution_count": 2,
   "id": "5b31e4d9",
   "metadata": {},
   "outputs": [
    {
     "name": "stdout",
     "output_type": "stream",
     "text": [
      "Philip\n",
      "Irene\n",
      "Neema\n",
      "Vivian\n",
      "Kevin\n"
     ]
    }
   ],
   "source": [
    "names = [\"Philip\" , \"Irene\" , \"Neema\" , \"Vivian\" , \"Kevin\"]\n",
    "print(names[0])\n",
    "print(names[1])\n",
    "print(names[2])\n",
    "print(names[3])\n",
    "print(names[4])"
   ]
  },
  {
   "cell_type": "markdown",
   "id": "1c4ce75d",
   "metadata": {},
   "source": [
    "2. GREETINGS: Start with the list you used in Exercise 1.0 above, but instead of just\n",
    "printing each person’s name, print a message to them. The text of each message\n",
    "should be the same, but each message should be personalized with the\n",
    "person’s name."
   ]
  },
  {
   "cell_type": "code",
   "execution_count": 10,
   "id": "42aefa1e",
   "metadata": {},
   "outputs": [
    {
     "name": "stdout",
     "output_type": "stream",
     "text": [
      "Hello Philip. How are you doing?\n",
      "Hello Irene. How are you doing?\n",
      "Hello Neema. How are you doing?\n",
      "Hello Vivian. How are you doing?\n",
      "Hello Kevin. How are you doing?\n",
      "\n"
     ]
    }
   ],
   "source": [
    "#Using Individual Values from a List.\n",
    "\n",
    "names = [\"Philip\" , \"Irene\" , \"Neema\" , \"Vivian\" , \"Kevin\"]\n",
    "\n",
    "greeting1 = \"Hello \" + names[0]+\". How are you doing?\"\n",
    "greeting2 = \"Hello \" + names[1]+\". How are you doing?\"\n",
    "greeting3 = \"Hello \" + names[2]+\". How are you doing?\"\n",
    "greeting4 = \"Hello \" + names[3]+\". How are you doing?\"\n",
    "greeting5 = \"Hello \" + names[4]+\". How are you doing?\"\n",
    "\n",
    "print(greeting1)\n",
    "print(greeting2)\n",
    "print(greeting3)\n",
    "print(greeting4)\n",
    "print(greeting5)\n",
    "print()"
   ]
  },
  {
   "cell_type": "markdown",
   "id": "10e44c92",
   "metadata": {},
   "source": [
    "3. YOUR OWN LIST: Think of your favorite mode of transportation, such as a\n",
    "motorcycle or a car, and make a list that stores several examples. Use your list\n",
    "to print a series of statements about these items, such as “I would like to own a\n",
    "Honda motorcycle.”"
   ]
  },
  {
   "cell_type": "code",
   "execution_count": 11,
   "id": "6decc695",
   "metadata": {},
   "outputs": [
    {
     "name": "stdout",
     "output_type": "stream",
     "text": [
      "I would like to own a BMW GS 1250cc adventure bike.\n",
      "I would like to own a Teken 250cc adventure bike.\n",
      "I would like to own a Hero 150cc motorbike.\n",
      "I would like to own a KTM 640cc adventure bike.\n",
      "I would like to own a Yamaha 250cc adventure bike.\n",
      "\n"
     ]
    }
   ],
   "source": [
    "bikes = [\"BMW GS\" , \"Teken\" , \"Hero\" , \"KTM\" , \"Yamaha\"]\n",
    "\n",
    "affirm1 = \"I would like to own a \" + bikes[0] + \" 1250cc adventure bike.\"\n",
    "affirm2 = \"I would like to own a \" + bikes[1] + \" 250cc adventure bike.\"\n",
    "affirm3 = \"I would like to own a \" + bikes[2] + \" 150cc motorbike.\"\n",
    "affirm4 = \"I would like to own a \" + bikes[3] + \" 640cc adventure bike.\"\n",
    "affirm5 = \"I would like to own a \" + bikes[4] + \" 250cc adventure bike.\"\n",
    "\n",
    "print(affirm1)\n",
    "print(affirm2)\n",
    "print(affirm3)\n",
    "print(affirm4)\n",
    "print(affirm5)\n",
    "print()"
   ]
  },
  {
   "cell_type": "markdown",
   "id": "ad96a9cb",
   "metadata": {},
   "source": [
    "4. GUEST LIST: If you could invite anyone, living or deceased, to dinner, who\n",
    "would you invite? Make a list that includes at least three people you’d like to\n",
    "invite to dinner. Then use your list to print a message to each person, inviting\n",
    "them to dinner."
   ]
  },
  {
   "cell_type": "code",
   "execution_count": 2,
   "id": "3a287eff",
   "metadata": {},
   "outputs": [
    {
     "name": "stdout",
     "output_type": "stream",
     "text": [
      "Hello Sarah, I would love to invite you for dinner on Friday at 6pm my place.\n",
      "Hello John, I would love to invite you for dinner on Friday at 6pm my place.\n",
      "Hello Zadok, I would love to invite you for dinner on Friday at 6pm my place.\n"
     ]
    }
   ],
   "source": [
    "guests = [\"Sarah\" , \"John\" , \"Zadok\"]\n",
    "\n",
    "invites1 =\"Hello \" + guests[0] + \", I would love to invite you for dinner on Friday at 6pm my place.\"\n",
    "invites2 =\"Hello \" + guests[1] + \", I would love to invite you for dinner on Friday at 6pm my place.\"\n",
    "invites3 =\"Hello \" + guests[2] + \", I would love to invite you for dinner on Friday at 6pm my place.\"\n",
    "\n",
    "print(invites1)\n",
    "print(invites2)\n",
    "print(invites3)"
   ]
  },
  {
   "cell_type": "markdown",
   "id": "a0ff4401",
   "metadata": {},
   "source": [
    "5. CHANGING GUEST LIST: You just heard that one of your guests can’t make the\n",
    "dinner, so you need to send out a new set of invitations. You’ll have to think of\n",
    "someone else to invite.\n",
    "\n",
    "• Start with your program from Exercise 4 above. Add a print statement at the\n",
    "end of your program stating the name of the guest who can’t make it.\n",
    "\n",
    "• Modify your list, replacing the name of the guest who can’t make it with\n",
    "the name of the new person you are inviting.\n",
    "\n",
    "• Print a second set of invitation messages, one for each person who is still\n",
    "in your list."
   ]
  },
  {
   "cell_type": "code",
   "execution_count": 10,
   "id": "7d1fc687",
   "metadata": {},
   "outputs": [
    {
     "name": "stdout",
     "output_type": "stream",
     "text": [
      "Hello Sarah, I would love to invite you for dinner on Friday at 6pm my place.\n",
      "Hello John, I would love to invite you for dinner on Friday at 6pm my place.\n",
      "Hello Zadok, I would love to invite you for dinner on Friday at 6pm my place.\n",
      "\n",
      "Hello everyone, unfortunately John would not make it for the dinner.\n",
      "\n",
      "['Sarah', 'Nafula', 'Zadok']\n",
      "\n",
      "Hello Sarah, I would love to invite you for dinner on Friday at 6pm my place.\n",
      "Hello Nafula, I would love to invite you for dinner on Friday at 6pm my place.\n",
      "Hello Zadok, I would love to invite you for dinner on Friday at 6pm my place.\n",
      "\n"
     ]
    }
   ],
   "source": [
    "guests = [\"Sarah\" , \"John\" , \"Zadok\"]\n",
    "\n",
    "invites1 =\"Hello \" + guests[0] + \", I would love to invite you for dinner on Friday at 6pm my place.\"\n",
    "invites2 =\"Hello \" + guests[1] + \", I would love to invite you for dinner on Friday at 6pm my place.\"\n",
    "invites3 =\"Hello \" + guests[2] + \", I would love to invite you for dinner on Friday at 6pm my place.\"\n",
    "info = \"Hello everyone, unfortunately \" + guests[1] + \" would not make it for the dinner.\"\n",
    "print(invites1)\n",
    "print(invites2)\n",
    "print(invites3)\n",
    "print()\n",
    "print(info)\n",
    "print()\n",
    "\n",
    "guests[1] = \"Nafula\"\n",
    "print(guests)\n",
    "print()\n",
    "\n",
    "invites1 =\"Hello \" + guests[0] + \", I would love to invite you for dinner on Friday at 6pm my place.\"\n",
    "invites2 =\"Hello \" + guests[1] + \", I would love to invite you for dinner on Friday at 6pm my place.\"\n",
    "invites3 =\"Hello \" + guests[2] + \", I would love to invite you for dinner on Friday at 6pm my place.\"\n",
    "\n",
    "print(invites1)\n",
    "print(invites2)\n",
    "print(invites3)\n",
    "print()"
   ]
  },
  {
   "cell_type": "markdown",
   "id": "fa2bc363",
   "metadata": {},
   "source": [
    "6. MORE GUESTS: You just found a bigger dinner table, so now more space is\n",
    "available. Think of three more guests to invite to dinner.\n",
    "\n",
    "• Start with your program from Exercise 3-4 or Exercise 3-5. Add a print\n",
    "statement to the end of your program informing people that you found a\n",
    "bigger dinner table.\n",
    "\n",
    "• Use insert() to add one new guest to the beginning of your list.\n",
    "\n",
    "• Use insert() to add one new guest to the middle of your list.\n",
    "\n",
    "• Use append() to add one new guest to the end of your list.\n",
    "\n",
    "• Print a new set of invitation messages, one for each person in your list."
   ]
  },
  {
   "cell_type": "code",
   "execution_count": 18,
   "id": "2a8568b5",
   "metadata": {
    "scrolled": true
   },
   "outputs": [
    {
     "name": "stdout",
     "output_type": "stream",
     "text": [
      "['Sarah', 'Nafula', 'Zadok']\n",
      "\n",
      "Hello guys good news I have a bigger dinner table on Friday.\n",
      "\n",
      "['James', 'Sarah', 'Philip', 'Nafula', 'Zadok', 'Joy']\n",
      "\n",
      "Hello James, I would love to invite you for dinner on Friday at 6pm my place.\n",
      "Hello Sarah, I would love to invite you for dinner on Friday at 6pm my place.\n",
      "Hello Philip, I would love to invite you for dinner on Friday at 6pm my place.\n",
      "Hello Nafula, I would love to invite you for dinner on Friday at 6pm my place.\n",
      "Hello Zadok, I would love to invite you for dinner on Friday at 6pm my place.\n",
      "Hello Joy, I would love to invite you for dinner on Friday at 6pm my place.\n",
      "\n"
     ]
    }
   ],
   "source": [
    "guests = [\"Sarah\", \"Nafula\", \"Zadok\"]\n",
    "print(guests)\n",
    "print()\n",
    "\n",
    "\n",
    "info1 = \"Hello guys good news I have a bigger dinner table on Friday.\"\n",
    "print(info1)\n",
    "print()\n",
    "\n",
    "guests.insert(0 , \"James\")\n",
    "guests.insert(2 , \"Philip\")\n",
    "guests.append(\"Joy\")\n",
    "\n",
    "print(guests)\n",
    "\n",
    "print()\n",
    "\n",
    "invites1 =\"Hello \" + guests[0] + \", I would love to invite you for dinner on Friday at 6pm my place.\"\n",
    "invites2 =\"Hello \" + guests[1] + \", I would love to invite you for dinner on Friday at 6pm my place.\"\n",
    "invites3 =\"Hello \" + guests[2] + \", I would love to invite you for dinner on Friday at 6pm my place.\"\n",
    "invites4 =\"Hello \" + guests[3] + \", I would love to invite you for dinner on Friday at 6pm my place.\"\n",
    "invites5 =\"Hello \" + guests[4] + \", I would love to invite you for dinner on Friday at 6pm my place.\"\n",
    "invites6 =\"Hello \" + guests[5] + \", I would love to invite you for dinner on Friday at 6pm my place.\"\n",
    "\n",
    "print(invites1)\n",
    "print(invites2)\n",
    "print(invites3)\n",
    "print(invites4)\n",
    "print(invites5)\n",
    "print(invites6)\n",
    "print()"
   ]
  },
  {
   "cell_type": "markdown",
   "id": "ef0d1215",
   "metadata": {},
   "source": [
    "7. SHRINKING GUEST LIST: You just found out that your new dinner table won’t\n",
    "arrive in time for the dinner, and you have space for only two guests.\n",
    "\n",
    "• Start with your program from Exercise 3-6. Add a new line that prints a\n",
    "message saying that you can invite only two people for dinner.\n",
    "\n",
    "• Use pop() to remove guests from your list one at a time until only two\n",
    "names remain in your list. Each time you pop a name from your list, print\n",
    "a message to that person letting them know you’re sorry you can’t invite\n",
    "them to dinner.\n",
    "\n",
    "• Print a message to each of the two people still on your list, letting them\n",
    "know they’re still invited.\n",
    "\n",
    "• Use del to remove the last two names from your list, so you have an empty\n",
    "list. Print your list to make sure you actually have an empty list at the end\n",
    "of your program."
   ]
  },
  {
   "cell_type": "code",
   "execution_count": 1,
   "id": "a56bcd9e",
   "metadata": {},
   "outputs": [
    {
     "name": "stdout",
     "output_type": "stream",
     "text": [
      "['James', 'Sarah', 'Philip', 'Nafula', 'Zadok', 'Joy']\n",
      "\n",
      "Hello good people, unfortunately am only having two slots for the dinner.\n",
      "\n",
      "['Philip', 'Zadok']\n",
      "\n",
      "Hello James, I am sorry I cannot invite you for dinner.\n",
      "Hello Sarah, I am sorry I cannot invite you for dinner.\n",
      "Hello Nafula, I am sorry I cannot invite you for dinner.\n",
      "Hello Joy, I am sorry I cannot invite you for dinner.\n",
      "\n",
      "Hello Philip, I want to inform you that you are still welcomed for dinner.\n",
      "Hello Zadok, I want to inform you that you are still welcomed for dinner.\n",
      "\n",
      "['Zadok']\n",
      "\n",
      "[]\n",
      "\n"
     ]
    }
   ],
   "source": [
    "guests = [\"James\" , \"Sarah\", \"Philip\" , \"Nafula\" , \"Zadok\" , \"Joy\"]\n",
    "print(guests)\n",
    "print()\n",
    "\n",
    "info2 = \"Hello good people, unfortunately am only having two slots for the dinner.\"\n",
    "print(info2)\n",
    "print()\n",
    "\n",
    "note = \"Hello \" + guests[0] + \", I am sorry I cannot invite you for dinner.\"\n",
    "guests.pop(0)\n",
    "note1 = \"Hello \" + guests[0] + \", I am sorry I cannot invite you for dinner.\"\n",
    "guests.pop(0)\n",
    "note2 = \"Hello \" + guests[1] + \", I am sorry I cannot invite you for dinner.\"\n",
    "guests.pop(1)\n",
    "note3 = \"Hello \" + guests[2] + \", I am sorry I cannot invite you for dinner.\"\n",
    "guests.pop(2)\n",
    "print(guests)\n",
    "print()\n",
    "\n",
    "print(note)\n",
    "print(note1)\n",
    "print(note2)\n",
    "print(note3)\n",
    "\n",
    "print()\n",
    "\n",
    "note4 = \"Hello \" + guests[0] + \", I want to inform you that you are still welcomed for dinner.\"\n",
    "note5 = \"Hello \" + guests[1] + \", I want to inform you that you are still welcomed for dinner.\"\n",
    "print(note4)\n",
    "print(note5)\n",
    "print()\n",
    "\n",
    "del guests[0]\n",
    "print(guests)\n",
    "print()\n",
    "\n",
    "del guests[0]\n",
    "print(guests)\n",
    "print()"
   ]
  },
  {
   "cell_type": "markdown",
   "id": "369162fb",
   "metadata": {},
   "source": [
    "8. SEEING THE WORLD: Think of at least five places in the world you would like to vist.\n",
    "\n",
    "• Store the location in a list. Make sure the list is not in alphabetical order.\n",
    "\n",
    "• Print your list in its original order. Don’t worry about printing the list neatly, just print it as a raw Python list.\n",
    "\n",
    "• Use sorted() to print your list in alphabetical order without modifying the\n",
    "actual list. \n",
    "\n",
    "• Show that your list is still in its original order by printing it.\n",
    "\n",
    "• Use sorted() to print your list in reverse alphabetical order without changing the order of the original list.\n",
    "\n",
    "• Show that your list is still in its original order by printing it again.\n",
    "\n",
    "• Use reverse() to change the order of your list. Print the list to show that its order has changed.\n",
    "\n",
    "• Use reverse() to change the order of your list again. Print the list to show\n",
    "it’s back to its original order.\n",
    "\n",
    "• Use sort() to change your list so it’s stored in alphabetical order. Print the list to show that its order has been changed.\n",
    "\n",
    "• Use sort() to change your list so it’s stored in reverse alphabetical order.\n",
    "Print the list to show that its order has changed."
   ]
  },
  {
   "cell_type": "code",
   "execution_count": 1,
   "id": "241d4bf8",
   "metadata": {},
   "outputs": [
    {
     "name": "stdout",
     "output_type": "stream",
     "text": [
      "['Germany', 'Australia', 'South Africa', 'Tunisia', 'Italy']\n",
      "\n",
      "['Australia', 'Germany', 'Italy', 'South Africa', 'Tunisia']\n",
      "\n",
      "['Germany', 'Australia', 'South Africa', 'Tunisia', 'Italy']\n",
      "\n",
      "['Italy', 'Tunisia', 'South Africa', 'Australia', 'Germany']\n",
      "\n",
      "['Germany', 'Australia', 'South Africa', 'Tunisia', 'Italy']\n",
      "\n",
      "['Australia', 'Germany', 'Italy', 'South Africa', 'Tunisia']\n",
      "\n",
      "['Tunisia', 'South Africa', 'Italy', 'Germany', 'Australia']\n",
      "\n"
     ]
    }
   ],
   "source": [
    "places = [\"Germany\" , \"Australia\" , \"South Africa\" , \"Tunisia\" , \"Italy\"]\n",
    "print(places)\n",
    "print()\n",
    "\n",
    "print(sorted(places)) #The sorted() function displays the list in particular order without affecting the original order of the list.\n",
    "print()\n",
    "\n",
    "print(places)#This shows that the list is still in it's original order even after being sorted().\n",
    "print()\n",
    "\n",
    "places.reverse()\n",
    "print(places)\n",
    "print()\n",
    "\n",
    "places.reverse()\n",
    "print(places)\n",
    "print()\n",
    "\n",
    "places.sort() #sort() arranges the list alphabetically permanetly \n",
    "print(places)\n",
    "print()\n",
    "\n",
    "places.sort(reverse=True) #reverse=True reverses the alphabetical order permanetly.\n",
    "print(places) #sort(reverse=True): stores the list in reverse alphabetical order.\n",
    "\n",
    "print()\n"
   ]
  },
  {
   "cell_type": "markdown",
   "id": "7b63d17f",
   "metadata": {},
   "source": [
    "DINNER GUESTS: Working with one of the programs from Exercise 4 through 7, use len() to print a message indicating the number of people you are inviting to dinner."
   ]
  },
  {
   "cell_type": "code",
   "execution_count": 7,
   "id": "8ec9d975",
   "metadata": {},
   "outputs": [
    {
     "name": "stdout",
     "output_type": "stream",
     "text": [
      "I have a planned dinner table and I have limited invites of 3.\n",
      "\n",
      "['Honda', 'BMW GS', 'Kawasaki', 'Hero', 'KTM', 'Yamaha', 'Scooter']\n",
      "I would love to own 7 different ranges of motorbikes.\n",
      "\n"
     ]
    }
   ],
   "source": [
    "guests1 = [\"Sarah\", \"John\", \"Zadok\"]\n",
    "invite1 = \"I have a planned dinner table and I have limited invites of \" + str(len(guests1)) + \".\"\n",
    "print(invite1)\n",
    "print()\n",
    "# The len(guests1) returns the length of the guests1 list as an integer, and str() converts that integer to a string so that it can be concatenated with the rest of the message.\n",
    "\n",
    "bike = ['Honda' , 'BMW GS' , 'Kawasaki' , 'Hero' , 'KTM' , 'Yamaha' , 'Scooter']\n",
    "print(bike)\n",
    "\n",
    "notice = \"I would love to own \" + str(len(bike)) + \" different ranges of motorbikes.\"\n",
    "print(notice)\n",
    "print()"
   ]
  },
  {
   "cell_type": "markdown",
   "id": "f2a06f82",
   "metadata": {},
   "source": [
    "EVERY FUNCTION: Think of something you could store in a list. For example,\n",
    "you could make a list of mountains, rivers, countries, cities, languages, or anything else you’d like. Write a program that creates a list containing these  and then uses each function introduced in this chapter at least once.\n",
    "\n"
   ]
  },
  {
   "cell_type": "code",
   "execution_count": 12,
   "id": "c447801f",
   "metadata": {},
   "outputs": [
    {
     "name": "stdout",
     "output_type": "stream",
     "text": [
      "['Mary', 'john', 'Mark', 'Rodney', 'Zipporah', 'Derrick', 'Damaris', 'Merceline']\n",
      "\n",
      "Zipporah\n",
      "\n",
      "John\n",
      "\n",
      "Mary\n",
      "john\n",
      "Merceline\n",
      "\n",
      "Zipporah is the youngest member in the group after Mark.\n",
      "\n",
      "['Joan', 'john', 'Mark', 'Rodney', 'Zipporah', 'Derrick', 'Damaris', 'Merceline']\n",
      "\n",
      "['Joan', 'john', 'Mark', 'Rodney', 'Zipporah', 'Derrick', 'Damaris', 'Merceline', 'Mary']\n",
      "\n",
      "['Joan', 'john', 'Mark', 'Mike', 'Rodney', 'Zipporah', 'Derrick', 'Damaris', 'Merceline', 'Mary']\n",
      "\n",
      "['Joan', 'john', 'Mark', 'Mike', 'Rodney', 'Zipporah', 'Derrick', 'Merceline', 'Mary']\n",
      "\n",
      "['Joan', 'john', 'Mark', 'Mike', 'Rodney', 'Zipporah', 'Derrick', 'Merceline']\n",
      "\n"
     ]
    }
   ],
   "source": [
    "nouns = [\"Mary\", \"john\" , \"Mark\" , \"Rodney\" , \"Zipporah\" , \"Derrick\" , \"Damaris\" , \"Merceline\"]\n",
    "print(nouns)\n",
    "print()\n",
    "\n",
    "#Accessing Elements in a List.\n",
    "print(nouns[4]) \n",
    "print()\n",
    "\n",
    "print(nouns[1].title()) \n",
    "print()\n",
    "\n",
    "#Index Positions Start at 0, NOT 1.\n",
    "print(nouns[0])\n",
    "print(nouns[-7])\n",
    "print(nouns[-1])\n",
    "print()\n",
    "\n",
    "#Using Individual Values from a List.\n",
    "message = nouns[4] + \" is the youngest member in the group after \" + nouns[2] + \".\"\n",
    "print(message)\n",
    "print()\n",
    "\n",
    "#Changing, Adding, and Removing elements.\n",
    "#a. Modifying Elements in a List.\n",
    "\n",
    "nouns[0] = \"Joan\" #\n",
    "print(nouns)\n",
    "print()\n",
    "\n",
    "#b. Adding Elements to a List.\n",
    "#Appending Elements to the End of the List.\n",
    "nouns.append(\"Mary\") # append() adds new item to the end of the list.\n",
    "print(nouns)\n",
    "print()\n",
    "\n",
    "#c. Inserting Elements to a List.\n",
    "nouns.insert(3, \"Mike\") #insert() helps add new item at any position in a list.\n",
    "print(nouns)\n",
    "print()\n",
    "\n",
    "#d. Removing Elements from a List.\n",
    "#Using the del Statement.\n",
    "del nouns[7] #del statement removes any item from any position in a list if you know it index.\n",
    "print(nouns)\n",
    "print()\n",
    "\n",
    "#Removing an Item Using the pop() Method.\n",
    "nouns.pop() #removes the last item in a list, but you can still work with the item after removing it.\n",
    "print(nouns)\n",
    "print()\n",
    "\n",
    "#Popping items from any position in a list."
   ]
  },
  {
   "cell_type": "code",
   "execution_count": null,
   "id": "1ef4c292",
   "metadata": {},
   "outputs": [],
   "source": []
  }
 ],
 "metadata": {
  "kernelspec": {
   "display_name": "Python 3 (ipykernel)",
   "language": "python",
   "name": "python3"
  },
  "language_info": {
   "codemirror_mode": {
    "name": "ipython",
    "version": 3
   },
   "file_extension": ".py",
   "mimetype": "text/x-python",
   "name": "python",
   "nbconvert_exporter": "python",
   "pygments_lexer": "ipython3",
   "version": "3.10.9"
  }
 },
 "nbformat": 4,
 "nbformat_minor": 5
}
